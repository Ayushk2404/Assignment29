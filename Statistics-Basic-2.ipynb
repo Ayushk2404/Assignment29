{
 "cells": [
  {
   "cell_type": "code",
   "execution_count": 1,
   "metadata": {},
   "outputs": [
    {
     "data": {
      "text/plain": [
       "'The three measures of central tendency are:\\n\\n1.Mean (Average): The sum of all values divided by the number of values.\\n2.Median: The middle value in a dataset when arranged in ascending or descending order.\\n3.Mode: The value that appears most frequently in a dataset.'"
      ]
     },
     "execution_count": 1,
     "metadata": {},
     "output_type": "execute_result"
    }
   ],
   "source": [
    "# Q1\n",
    "'''The three measures of central tendency are:\n",
    "\n",
    "1.Mean (Average): The sum of all values divided by the number of values.\n",
    "2.Median: The middle value in a dataset when arranged in ascending or descending order.\n",
    "3.Mode: The value that appears most frequently in a dataset.'''"
   ]
  },
  {
   "cell_type": "code",
   "execution_count": 2,
   "metadata": {},
   "outputs": [
    {
     "data": {
      "text/plain": [
       "\"\\n1.Mean is the average of all values and can be affected by extreme values.\\n2.Median is the middle value, and it's not influenced by extreme values.\\n3.Mode is the most frequent value and can be multiple or even non-existent.\\nThey are used to measure central tendency by providing a representative value around which the data cluster. \\nThe choice of which measure to use depends on the distribution and nature of the data.\""
      ]
     },
     "execution_count": 2,
     "metadata": {},
     "output_type": "execute_result"
    }
   ],
   "source": [
    "# Q2\n",
    "'''\n",
    "1.Mean is the average of all values and can be affected by extreme values.\n",
    "2.Median is the middle value, and it's not influenced by extreme values.\n",
    "3.Mode is the most frequent value and can be multiple or even non-existent.\n",
    "They are used to measure central tendency by providing a representative value around which the data cluster. \n",
    "The choice of which measure to use depends on the distribution and nature of the data.'''"
   ]
  },
  {
   "cell_type": "code",
   "execution_count": 3,
   "metadata": {},
   "outputs": [
    {
     "data": {
      "text/plain": [
       "\"\\nMean: (Sum of all values) / (Number of values) = (2837.3) / (16) ≈ 177.33125\\nMedian: Arrange in ascending order: 172.5, 175, 175, 176, 176.2, 176.5, 177, 177, 177, 178, 178, 178, 178.2, 178.9, 179, 180. Median is the middle value, which is 177.\\nMode: There's no mode as no value appears more than once.\""
      ]
     },
     "execution_count": 3,
     "metadata": {},
     "output_type": "execute_result"
    }
   ],
   "source": [
    "# Q3\n",
    "'''\n",
    "Mean: (Sum of all values) / (Number of values) = (2837.3) / (16) ≈ 177.33125\n",
    "Median: Arrange in ascending order: 172.5, 175, 175, 176, 176.2, 176.5, 177, 177, 177, 178, 178, 178, 178.2, 178.9, 179, 180. Median is the middle value, which is 177.\n",
    "Mode: There's no mode as no value appears more than once.'''"
   ]
  },
  {
   "cell_type": "code",
   "execution_count": 4,
   "metadata": {},
   "outputs": [
    {
     "data": {
      "text/plain": [
       "'\\nCalculate the mean (previously found as ~177.33125).\\nCalculate the squared difference between each value and the mean.\\nCalculate the mean of these squared differences.\\nTake the square root of the mean of squared differences.'"
      ]
     },
     "execution_count": 4,
     "metadata": {},
     "output_type": "execute_result"
    }
   ],
   "source": [
    "# Q4\n",
    "'''\n",
    "Calculate the mean (previously found as ~177.33125).\n",
    "Calculate the squared difference between each value and the mean.\n",
    "Calculate the mean of these squared differences.\n",
    "Take the square root of the mean of squared differences.'''"
   ]
  },
  {
   "cell_type": "code",
   "execution_count": 5,
   "metadata": {},
   "outputs": [
    {
     "data": {
      "text/plain": [
       "'Range: The difference between the maximum and minimum values.\\nVariance: The average of the squared differences from the mean.\\nStandard Deviation: The square root of the variance.\\nExample: Consider two datasets: Dataset A with values [10, 20, 30, 40, 50] and Dataset B with values [10, 10, 10, 10, 50].\\nBoth have the same mean of 30, but Dataset B has a higher dispersion due to the large difference between the minimum and maximum values.'"
      ]
     },
     "execution_count": 5,
     "metadata": {},
     "output_type": "execute_result"
    }
   ],
   "source": [
    "# Q5\n",
    "'''Range: The difference between the maximum and minimum values.\n",
    "Variance: The average of the squared differences from the mean.\n",
    "Standard Deviation: The square root of the variance.\n",
    "Example: Consider two datasets: Dataset A with values [10, 20, 30, 40, 50] and Dataset B with values [10, 10, 10, 10, 50].\n",
    "Both have the same mean of 30, but Dataset B has a higher dispersion due to the large difference between the minimum and maximum values.'''"
   ]
  },
  {
   "cell_type": "code",
   "execution_count": 6,
   "metadata": {},
   "outputs": [
    {
     "data": {
      "text/plain": [
       "'A Venn diagram is a graphical representation used to show the relationship between sets. \\nIt consists of overlapping circles, each representing a set, and the overlapping regions represent the intersection between sets.'"
      ]
     },
     "execution_count": 6,
     "metadata": {},
     "output_type": "execute_result"
    }
   ],
   "source": [
    "# Q6\n",
    "'''A Venn diagram is a graphical representation used to show the relationship between sets. \n",
    "It consists of overlapping circles, each representing a set, and the overlapping regions represent the intersection between sets.'''"
   ]
  },
  {
   "cell_type": "code",
   "execution_count": 7,
   "metadata": {},
   "outputs": [
    {
     "data": {
      "text/plain": [
       "' \\nFor the sets A = (2, 3, 4, 5, 6, 7) and B = (0, 2, 6, 8, 10):\\n(i) \\n  A ∩ B (A intersect B) is the set of elements that are common to both A and B. In this case, A ∩ B = {2, 6}.\\n(ii) \\n  A ∪ B (A union B) is the set of all elements in both A and B without repetition. A ∪ B = {0, 2, 3, 4, 5, 6, 7, 8, 10}.'"
      ]
     },
     "execution_count": 7,
     "metadata": {},
     "output_type": "execute_result"
    }
   ],
   "source": [
    "# Q7\n",
    "''' \n",
    "For the sets A = (2, 3, 4, 5, 6, 7) and B = (0, 2, 6, 8, 10):\n",
    "(i) \n",
    "  A ∩ B (A intersect B) is the set of elements that are common to both A and B. In this case, A ∩ B = {2, 6}.\n",
    "(ii) \n",
    "  A ∪ B (A union B) is the set of all elements in both A and B without repetition. A ∪ B = {0, 2, 3, 4, 5, 6, 7, 8, 10}.'''"
   ]
  },
  {
   "cell_type": "code",
   "execution_count": 8,
   "metadata": {},
   "outputs": [
    {
     "data": {
      "text/plain": [
       "'Skewness in data refers to the asymmetry of the distribution of values. If a distribution is skewed, it means that the data is not symmetrically distributed around the mean. \\nSkewness can be either to the right (positively skewed) or to the left (negatively skewed).'"
      ]
     },
     "execution_count": 8,
     "metadata": {},
     "output_type": "execute_result"
    }
   ],
   "source": [
    "# Q8\n",
    "'''Skewness in data refers to the asymmetry of the distribution of values. If a distribution is skewed, it means that the data is not symmetrically distributed around the mean. \n",
    "Skewness can be either to the right (positively skewed) or to the left (negatively skewed).'''"
   ]
  },
  {
   "cell_type": "code",
   "execution_count": 9,
   "metadata": {},
   "outputs": [
    {
     "data": {
      "text/plain": [
       "'If a data distribution is right-skewed, the tail of the distribution (where the larger values are) extends farther to the right. In this case, \\nthe mean will be pulled in the direction of the tail, making it larger than the median. So, the median will be to the left of the mean.'"
      ]
     },
     "execution_count": 9,
     "metadata": {},
     "output_type": "execute_result"
    }
   ],
   "source": [
    "# Q9\n",
    "'''If a data distribution is right-skewed, the tail of the distribution (where the larger values are) extends farther to the right. In this case, \n",
    "the mean will be pulled in the direction of the tail, making it larger than the median. So, the median will be to the left of the mean.'''"
   ]
  },
  {
   "cell_type": "code",
   "execution_count": 10,
   "metadata": {},
   "outputs": [
    {
     "data": {
      "text/plain": [
       "\"\\nCovariance: It measures the degree to which two variables change together. It can be positive (both variables increase together), negative (one variable increases while the other decreases), or zero (no consistent relationship). However, it doesn't provide a standardized measure of how strongly the variables are related.\\nCorrelation: It's a standardized measure of the linear relationship between two variables. It ranges between -1 (perfect negative correlation) and 1 (perfect positive correlation), with 0 indicating no linear correlation.\\nBoth measures are used in statistical analysis to understand the relationship between variables and to make predictions or decisions based on the data.\""
      ]
     },
     "execution_count": 10,
     "metadata": {},
     "output_type": "execute_result"
    }
   ],
   "source": [
    "# Q10\n",
    "'''\n",
    "Covariance: It measures the degree to which two variables change together. It can be positive (both variables increase together), negative (one variable increases while the other decreases), or zero (no consistent relationship). However, it doesn't provide a standardized measure of how strongly the variables are related.\n",
    "Correlation: It's a standardized measure of the linear relationship between two variables. It ranges between -1 (perfect negative correlation) and 1 (perfect positive correlation), with 0 indicating no linear correlation.\n",
    "Both measures are used in statistical analysis to understand the relationship between variables and to make predictions or decisions based on the data.'''"
   ]
  },
  {
   "cell_type": "code",
   "execution_count": 11,
   "metadata": {},
   "outputs": [
    {
     "data": {
      "text/plain": [
       "'The formula for calculating the sample mean is:\\nSample Mean (x̄) = (Sum of all values) / (Number of values)\\n\\nExample: Consider a dataset [10, 20, 30, 40, 50]. The sum of values is 10 + 20 + 30 + 40 + 50 = 150. \\nThe number of values is 5. Therefore, the sample mean is 150 / 5 = 30.'"
      ]
     },
     "execution_count": 11,
     "metadata": {},
     "output_type": "execute_result"
    }
   ],
   "source": [
    "# Q11\n",
    "'''The formula for calculating the sample mean is:\n",
    "Sample Mean (x̄) = (Sum of all values) / (Number of values)\n",
    "\n",
    "Example: Consider a dataset [10, 20, 30, 40, 50]. The sum of values is 10 + 20 + 30 + 40 + 50 = 150. \n",
    "The number of values is 5. Therefore, the sample mean is 150 / 5 = 30.'''"
   ]
  },
  {
   "cell_type": "code",
   "execution_count": 12,
   "metadata": {},
   "outputs": [
    {
     "data": {
      "text/plain": [
       "'For a normal distribution, the mean, median, and mode are all located at the same point, making the distribution symmetric. This is a key characteristic of normal distribution'"
      ]
     },
     "execution_count": 12,
     "metadata": {},
     "output_type": "execute_result"
    }
   ],
   "source": [
    "# Q12\n",
    "'''For a normal distribution, the mean, median, and mode are all located at the same point, making the distribution symmetric. This is a key characteristic of normal distribution'''"
   ]
  },
  {
   "cell_type": "code",
   "execution_count": 13,
   "metadata": {},
   "outputs": [
    {
     "data": {
      "text/plain": [
       "\"Covariance measures the extent to which two variables change together, but it doesn't give a sense of the strength or direction of the relationship. \\nCorrelation, on the other hand, standardizes the relationship between two variables and provides information about the strength and direction of the linear relationship.\""
      ]
     },
     "execution_count": 13,
     "metadata": {},
     "output_type": "execute_result"
    }
   ],
   "source": [
    "# Q13\n",
    "'''Covariance measures the extent to which two variables change together, but it doesn't give a sense of the strength or direction of the relationship. \n",
    "Correlation, on the other hand, standardizes the relationship between two variables and provides information about the strength and direction of the linear relationship.'''"
   ]
  },
  {
   "cell_type": "code",
   "execution_count": 14,
   "metadata": {},
   "outputs": [
    {
     "data": {
      "text/plain": [
       "'Central tendency: Outliers can pull the mean away from the bulk of the data, making it a less representative measure. The median is less affected by outliers.\\nDispersion: Outliers can greatly increase the range and standard deviation, making the spread appear larger than it actually is.\\nExample: In a dataset [10, 20, 30, 40, 200], the outlier \"200\" would significantly increase the mean and standard deviation, but the median would be less affected.'"
      ]
     },
     "execution_count": 14,
     "metadata": {},
     "output_type": "execute_result"
    }
   ],
   "source": [
    "# Q14\n",
    "'''Central tendency: Outliers can pull the mean away from the bulk of the data, making it a less representative measure. The median is less affected by outliers.\n",
    "Dispersion: Outliers can greatly increase the range and standard deviation, making the spread appear larger than it actually is.\n",
    "Example: In a dataset [10, 20, 30, 40, 200], the outlier \"200\" would significantly increase the mean and standard deviation, but the median would be less affected.'''"
   ]
  }
 ],
 "metadata": {
  "kernelspec": {
   "display_name": "Python 3",
   "language": "python",
   "name": "python3"
  },
  "language_info": {
   "codemirror_mode": {
    "name": "ipython",
    "version": 3
   },
   "file_extension": ".py",
   "mimetype": "text/x-python",
   "name": "python",
   "nbconvert_exporter": "python",
   "pygments_lexer": "ipython3",
   "version": "3.11.4"
  },
  "orig_nbformat": 4
 },
 "nbformat": 4,
 "nbformat_minor": 2
}
